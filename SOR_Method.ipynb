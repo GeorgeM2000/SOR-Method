{
  "nbformat": 4,
  "nbformat_minor": 0,
  "metadata": {
    "colab": {
      "name": "SOR-Method.ipynb",
      "provenance": [],
      "collapsed_sections": []
    },
    "kernelspec": {
      "name": "python3",
      "display_name": "Python 3"
    },
    "language_info": {
      "name": "python"
    }
  },
  "cells": [
    {
      "cell_type": "code",
      "execution_count": 1,
      "metadata": {
        "id": "Ly3Q1n2wWOSK"
      },
      "outputs": [],
      "source": [
        "import numpy as np\n",
        "import matplotlib.pyplot as plt\n",
        "import time"
      ]
    },
    {
      "cell_type": "code",
      "source": [
        "class SOR:\n",
        "\n",
        "  def __init__(self, initialX, A, b, tolerance, maxIterations, w):\n",
        "    self.x = initialX\n",
        "    self.A = A\n",
        "    self.b = b\n",
        "    self.tolerance = tolerance\n",
        "    self.maxIterations = maxIterations\n",
        "    self.w = w\n",
        "\n",
        "  def sor(self):\n",
        "    # Diagonal\n",
        "    D = np.diag(self.A)\n",
        "\n",
        "    # Lower diagonal\n",
        "    L = np.tril(self.A, -1)\n",
        "    \n",
        "    # Upper diagonal\n",
        "    U = np.triu(self.A, 1)\n",
        "\n",
        "    iter = 0\n",
        "\n",
        "    # If there is a zero in the diagonal then the method will not converge\n",
        "    if 0. in D:\n",
        "      return np.array([np.NAN]), iter, None, None\n",
        "\n",
        "    # D - ωL\n",
        "    Q =  self.w*L + np.diag(D) \n",
        "\n",
        "    # (1-ω)D + ωU\n",
        "    P = (1 - self.w)*np.diag(D) - self.w*np.asmatrix(U)\n",
        "\n",
        "    # Q^-1\n",
        "    inverseQ = np.linalg.inv(Q)\n",
        "\n",
        "    # x will initially be a vector with random values\n",
        "    x = np.random.uniform(size=(np.size(self.b), 1))\n",
        "\n",
        "    # The new vector x(newX) will be x0(the initial x guess) \n",
        "    newX = self.x\n",
        "\n",
        "    # List of local errors\n",
        "    # Calculate the infinite norm error value of the initial guess x(x0) and the random vector x\n",
        "    localErrors = [np.linalg.norm(newX - x, np.inf)]\n",
        "\n",
        "    # List of x solutions\n",
        "    xSolutions = [self.x]\n",
        "    \n",
        "    # Start time\n",
        "    startTime = time.time()\n",
        "\n",
        "    while iter < self.maxIterations and localErrors[iter] > self.tolerance:\n",
        "\n",
        "      x = newX\n",
        "      iter += 1\n",
        "\n",
        "      # Calculate a new x solution\n",
        "      newX = np.asmatrix(inverseQ) * np.asmatrix(P) * np.asmatrix(x) + self.w*np.asmatrix(inverseQ)*np.asmatrix(self.b)\n",
        "\n",
        "      # Add the local error to the list of local errors\n",
        "      localErrors.append(np.linalg.norm(newX - x, np.inf))\n",
        "\n",
        "      # Add the new solution x to the list of solutions\n",
        "      xSolutions.append(newX)\n",
        "    \n",
        "    x = newX\n",
        "    xSolutions.append(x)\n",
        "\n",
        "    # End time\n",
        "    endTime = time.time()\n",
        "    print(f'Completed at {endTime - startTime} \\n')\n",
        "\n",
        "    return xSolutions, iter, localErrors, x\n",
        "\n",
        "  \n",
        "  # Plot the local erros\n",
        "  def plotError(self, error):\n",
        "    figure = plt.figure(1)\n",
        "    plt.title(\"Error\")\n",
        "    plt.plot(error[1:])\n",
        "    plt.grid()\n",
        "    plt.show()\n"
      ],
      "metadata": {
        "id": "stXseOreWUIy"
      },
      "execution_count": 15,
      "outputs": []
    },
    {
      "cell_type": "code",
      "source": [
        "# A matrix\n",
        "A = np.array([\n",
        "    [8, 1, -1],\n",
        "    [1, -7, 2],\n",
        "    [2, 1, 9]\n",
        "])\n",
        "\n",
        "# Tolerance value\n",
        "tolerance = 1e-8\n",
        "\n",
        "# Initial x vector\n",
        "initialX = np.array([0., 0., 0.])\n",
        "initialX = initialX[:, np.newaxis]\n",
        "\n",
        "# b vector\n",
        "b = np.array([8, -4, 12])\n",
        "b = b[:, np.newaxis]\n",
        "\n",
        "sor = SOR(initialX, A, b, tolerance, 20, 0.9)\n",
        "xSolutions, iter, errors, X = sor.sor()\n",
        "\n",
        "# Print all the solutions for every iteration\n",
        "print(\"X Solutions: \")\n",
        "# For every x solution\n",
        "for x in xSolutions:\n",
        "  # For every element in the x solution\n",
        "  for elem in x:\n",
        "    print(f'{elem}', end=\"\")\n",
        "  print()\n",
        "\n",
        "# Print the solution to the Ax=b\n",
        "print(f'\\nThe solution to Ax=b is \\n{X}')\n",
        "\n",
        "# Print the maximum iteration the jacobi method has reached\n",
        "print(f'\\nThe maximum iteration for the jacobi method is {iter}')\n",
        "\n",
        "# Print the error\n",
        "print(f'\\nThe error is {errors[-1]}')\n",
        "\n",
        "# Graph the errors\n",
        "sor.plotError(errors)"
      ],
      "metadata": {
        "colab": {
          "base_uri": "https://localhost:8080/",
          "height": 732
        },
        "id": "5QJAM1dBaCE5",
        "outputId": "2164d502-bb55-4372-bb46-8b51ba9b4f33"
      },
      "execution_count": 20,
      "outputs": [
        {
          "output_type": "stream",
          "name": "stdout",
          "text": [
            "Completed at 0.0009109973907470703 \n",
            "\n",
            "X Solutions: \n",
            "[0.][0.][0.]\n",
            "[[0.9]][[0.63]][[0.957]]\n",
            "[[1.0267875]][[0.95538696]][[0.9948038]]\n",
            "[[1.00711314]][[0.99511708]][[0.99854604]]\n",
            "[[1.00109707]][[0.99927889]][[0.9997073]]\n",
            "[[1.0001579]][[0.99987293]][[0.99995186]]\n",
            "[[1.00002467]][[0.99997808]][[0.99999244]]\n",
            "[[1.00000408]][[0.99999639]][[0.99999879]]\n",
            "[[1.00000068]][[0.99999941]][[0.9999998]]\n",
            "[[1.00000011]][[0.9999999]][[0.99999997]]\n",
            "[[1.00000002]][[0.99999998]][[0.99999999]]\n",
            "[[1.]][[1.]][[1.]]\n",
            "[[1.]][[1.]][[1.]]\n",
            "[[1.]][[1.]][[1.]]\n",
            "\n",
            "The solution to Ax=b is \n",
            "[[1.]\n",
            " [1.]\n",
            " [1.]]\n",
            "\n",
            "The maximum iteration for the jacobi method is 12\n",
            "\n",
            "The error is 2.4823765265580278e-09\n"
          ]
        },
        {
          "output_type": "display_data",
          "data": {
            "text/plain": [
              "<Figure size 432x288 with 1 Axes>"
            ],
            "image/png": "[encoded data removed]"
          },
          "metadata": {
            "needs_background": "light"
          }
        }
      ]
    }
  ]
}